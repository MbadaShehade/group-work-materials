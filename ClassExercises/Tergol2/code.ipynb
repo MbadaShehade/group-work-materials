import json
from google.colab import drive
from ipywidgets import widgets, VBox
from IPython.display import display, HTML

# Mount Google Drive
drive.mount('/content/drive')

# Load JSON file
file_path = '/content/drive/My Drive/students.json'
with open(file_path, 'r') as file:
    students = json.load(file)

# Function to save JSON file
def save_json(data, path):
    with open(path, 'w') as file:
        json.dump(data, file, indent=4)

# Function to find student by full name
def find_student_by_name(full_name):
    for student in students:
        if f"{student['first_name']} {student['last_name']}" == full_name:
            return student
    return None

# Function to update student details in widgets
def update_fields(selected_student):
    first_name.value = selected_student['first_name']
    last_name.value = selected_student['last_name']
    email.value = selected_student['email']
    courses.value = ', '.join(selected_student['courses'])
    interesting_link.value = selected_student['interesting_link']
    favorite_program.value = selected_student['favorite_program']

# Function to update favorite program in JSON file
def update_program(_):
    selected_student = find_student_by_name(dropdown.value)
    if selected_student:
        selected_student['favorite_program'] = favorite_program.value
        save_json(students, file_path)
        print(f"Updated favorite program for {selected_student['first_name']} {selected_student['last_name']}")
    else:
        print(f"Student '{dropdown.value}' not found in the list.")

# Create dropdown options
student_names = [f"{student['first_name']} {student['last_name']}" for student in students]

# Widgets creation
dropdown = widgets.Dropdown(options=student_names, description='Student:')
first_name = widgets.Text(description='First Name:')
last_name = widgets.Text(description='Last Name:')
email = widgets.Text(description='Email:')
courses = widgets.Textarea(description='Courses:', height=100)
interesting_link = widgets.Text(description='Link:')
favorite_program = widgets.Text(description='Program:')
update_button = widgets.Button(description='Update Program', button_style='success')

# Initial update of widgets with first student's data
update_fields(students[0])

# Define widget layouts
student_details = VBox([
    widgets.HTML("<h2>Student Info</h2>"),
    first_name, last_name, email, courses,
    interesting_link, favorite_program, update_button
])

# Display widgets
display(VBox([dropdown, student_details]))

# Function to handle dropdown change
def dropdown_change_handler(change):
    selected_name = change['new']
    selected_student = find_student_by_name(selected_name)
    if selected_student:
        update_fields(selected_student)
    else:
        print(f"Student '{selected_name}' not found in the list.")

# Link dropdown change to handler function
dropdown.observe(dropdown_change_handler, names='value')

# Link update button click to update_program function
update_button.on_click(update_program)

# Custom CSS for styling
custom_css = """
<style>
    .widget-dropdown { margin-bottom: 20px; }
    .widget-text, .widget-textarea { margin-bottom: 10px; }
    .widget-button { background-color: #4CAF50; color: white; border: none; text-align: center;
                     text-decoration: none; display: inline-block; font-size: 14px; margin: 4px 2px;
                     cursor: pointer; border-radius: 12px; }
    .widget-button:hover { background-color: #45a049; }
    .widget-label { font-weight: bold; }
</style>
"""

display(HTML(custom_css))
