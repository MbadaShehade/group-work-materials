{
  "nbformat": 4,
  "nbformat_minor": 0,
  "metadata": {
    "colab": {
      "provenance": []
    },
    "kernelspec": {
      "name": "python3",
      "display_name": "Python 3"
    },
    "language_info": {
      "name": "python"
    },
    "widgets": {
      "application/vnd.jupyter.widget-state+json": {
        "47a90b4ade8b470f90f14ff88411cd63": {
          "model_module": "@jupyter-widgets/controls",
          "model_name": "DropdownModel",
          "model_module_version": "1.5.0",
          "state": {
            "_dom_classes": [],
            "_model_module": "@jupyter-widgets/controls",
            "_model_module_version": "1.5.0",
            "_model_name": "DropdownModel",
            "_options_labels": [
              "Alice",
              "Bob",
              "Charlie",
              "Diana"
            ],
            "_view_count": null,
            "_view_module": "@jupyter-widgets/controls",
            "_view_module_version": "1.5.0",
            "_view_name": "DropdownView",
            "description": "Name:",
            "description_tooltip": null,
            "disabled": false,
            "index": 0,
            "layout": "IPY_MODEL_c4b0ed3b5ddd4c3b98ff513c665f2b2c",
            "style": "IPY_MODEL_9efed851032c493a9de89eb0e3e37613"
          }
        },
        "c4b0ed3b5ddd4c3b98ff513c665f2b2c": {
          "model_module": "@jupyter-widgets/base",
          "model_name": "LayoutModel",
          "model_module_version": "1.2.0",
          "state": {
            "_model_module": "@jupyter-widgets/base",
            "_model_module_version": "1.2.0",
            "_model_name": "LayoutModel",
            "_view_count": null,
            "_view_module": "@jupyter-widgets/base",
            "_view_module_version": "1.2.0",
            "_view_name": "LayoutView",
            "align_content": null,
            "align_items": null,
            "align_self": null,
            "border": null,
            "bottom": null,
            "display": null,
            "flex": null,
            "flex_flow": null,
            "grid_area": null,
            "grid_auto_columns": null,
            "grid_auto_flow": null,
            "grid_auto_rows": null,
            "grid_column": null,
            "grid_gap": null,
            "grid_row": null,
            "grid_template_areas": null,
            "grid_template_columns": null,
            "grid_template_rows": null,
            "height": null,
            "justify_content": null,
            "justify_items": null,
            "left": null,
            "margin": null,
            "max_height": null,
            "max_width": null,
            "min_height": null,
            "min_width": null,
            "object_fit": null,
            "object_position": null,
            "order": null,
            "overflow": null,
            "overflow_x": null,
            "overflow_y": null,
            "padding": null,
            "right": null,
            "top": null,
            "visibility": null,
            "width": null
          }
        },
        "9efed851032c493a9de89eb0e3e37613": {
          "model_module": "@jupyter-widgets/controls",
          "model_name": "DescriptionStyleModel",
          "model_module_version": "1.5.0",
          "state": {
            "_model_module": "@jupyter-widgets/controls",
            "_model_module_version": "1.5.0",
            "_model_name": "DescriptionStyleModel",
            "_view_count": null,
            "_view_module": "@jupyter-widgets/base",
            "_view_module_version": "1.2.0",
            "_view_name": "StyleView",
            "description_width": ""
          }
        },
        "ed12917f2e154c3993bd2fccfe894d32": {
          "model_module": "@jupyter-widgets/controls",
          "model_name": "LabelModel",
          "model_module_version": "1.5.0",
          "state": {
            "_dom_classes": [],
            "_model_module": "@jupyter-widgets/controls",
            "_model_module_version": "1.5.0",
            "_model_name": "LabelModel",
            "_view_count": null,
            "_view_module": "@jupyter-widgets/controls",
            "_view_module_version": "1.5.0",
            "_view_name": "LabelView",
            "description": "",
            "description_tooltip": null,
            "layout": "IPY_MODEL_fd6a33176bdb4b669c6667b8f53013de",
            "placeholder": "​",
            "style": "IPY_MODEL_192852643b324adea2f238422ed13b8e",
            "value": "Student ID: 1, Name: Alice"
          }
        },
        "fd6a33176bdb4b669c6667b8f53013de": {
          "model_module": "@jupyter-widgets/base",
          "model_name": "LayoutModel",
          "model_module_version": "1.2.0",
          "state": {
            "_model_module": "@jupyter-widgets/base",
            "_model_module_version": "1.2.0",
            "_model_name": "LayoutModel",
            "_view_count": null,
            "_view_module": "@jupyter-widgets/base",
            "_view_module_version": "1.2.0",
            "_view_name": "LayoutView",
            "align_content": null,
            "align_items": null,
            "align_self": null,
            "border": null,
            "bottom": null,
            "display": null,
            "flex": null,
            "flex_flow": null,
            "grid_area": null,
            "grid_auto_columns": null,
            "grid_auto_flow": null,
            "grid_auto_rows": null,
            "grid_column": null,
            "grid_gap": null,
            "grid_row": null,
            "grid_template_areas": null,
            "grid_template_columns": null,
            "grid_template_rows": null,
            "height": null,
            "justify_content": null,
            "justify_items": null,
            "left": null,
            "margin": null,
            "max_height": null,
            "max_width": null,
            "min_height": null,
            "min_width": null,
            "object_fit": null,
            "object_position": null,
            "order": null,
            "overflow": null,
            "overflow_x": null,
            "overflow_y": null,
            "padding": null,
            "right": null,
            "top": null,
            "visibility": null,
            "width": null
          }
        },
        "192852643b324adea2f238422ed13b8e": {
          "model_module": "@jupyter-widgets/controls",
          "model_name": "DescriptionStyleModel",
          "model_module_version": "1.5.0",
          "state": {
            "_model_module": "@jupyter-widgets/controls",
            "_model_module_version": "1.5.0",
            "_model_name": "DescriptionStyleModel",
            "_view_count": null,
            "_view_module": "@jupyter-widgets/base",
            "_view_module_version": "1.2.0",
            "_view_name": "StyleView",
            "description_width": ""
          }
        }
      }
    }
  },
  "cells": [
    {
      "cell_type": "code",
      "execution_count": 1,
      "metadata": {
        "colab": {
          "base_uri": "https://localhost:8080/",
          "height": 79,
          "referenced_widgets": [
            "47a90b4ade8b470f90f14ff88411cd63",
            "c4b0ed3b5ddd4c3b98ff513c665f2b2c",
            "9efed851032c493a9de89eb0e3e37613",
            "ed12917f2e154c3993bd2fccfe894d32",
            "fd6a33176bdb4b669c6667b8f53013de",
            "192852643b324adea2f238422ed13b8e"
          ]
        },
        "id": "ui_ILMSSq5jf",
        "outputId": "3553e33d-7a07-49ea-bb67-625a01c35352"
      },
      "outputs": [
        {
          "output_type": "display_data",
          "data": {
            "text/plain": [
              "Dropdown(description='Name:', options=('Alice', 'Bob', 'Charlie', 'Diana'), value=None)"
            ],
            "application/vnd.jupyter.widget-view+json": {
              "version_major": 2,
              "version_minor": 0,
              "model_id": "47a90b4ade8b470f90f14ff88411cd63"
            }
          },
          "metadata": {}
        },
        {
          "output_type": "display_data",
          "data": {
            "text/plain": [
              "Label(value='')"
            ],
            "application/vnd.jupyter.widget-view+json": {
              "version_major": 2,
              "version_minor": 0,
              "model_id": "ed12917f2e154c3993bd2fccfe894d32"
            }
          },
          "metadata": {}
        }
      ],
      "source": [
        "import ipywidgets as widgets\n",
        "from IPython.display import display, clear_output\n",
        "\n",
        "# Define the array of students with names and IDs\n",
        "students = [\n",
        "    {'id': 1, 'name': 'Alice'},\n",
        "    {'id': 2, 'name': 'Bob'},\n",
        "    {'id': 3, 'name': 'Charlie'},\n",
        "    {'id': 4, 'name': 'Diana'}\n",
        "]\n",
        "\n",
        "# Function to get student info by name\n",
        "def get_student_info_by_name(student_name):\n",
        "    for student in students:\n",
        "        if student['name'] == student_name:\n",
        "            return student\n",
        "    return None\n",
        "\n",
        "# Function to display the student info based on the selected name\n",
        "def display_student_info(change):\n",
        "    student_name = change['new']\n",
        "    student_info = get_student_info_by_name(student_name)\n",
        "\n",
        "    if student_info:\n",
        "        result.value = f\"Student ID: {student_info['id']}, Name: {student_info['name']}\"\n",
        "    else:\n",
        "        result.value = \"Student not found.\"\n",
        "\n",
        "# Create a dropdown for the student names\n",
        "student_name_dropdown = widgets.Dropdown(\n",
        "    options=[student['name'] for student in students],\n",
        "    value=None,\n",
        "    description='Name:',\n",
        "    disabled=False\n",
        ")\n",
        "\n",
        "# Create an output area to display the result\n",
        "result = widgets.Label(value=\"\")\n",
        "\n",
        "# Bind the dropdown change event to the action\n",
        "student_name_dropdown.observe(display_student_info, names='value')\n",
        "\n",
        "# Display the dropdown and result area\n",
        "display(student_name_dropdown, result)\n"
      ]
    }
  ]
}