{
  "nbformat": 4,
  "nbformat_minor": 0,
  "metadata": {
    "colab": {
      "provenance": []
    },
    "kernelspec": {
      "name": "python3",
      "display_name": "Python 3"
    },
    "language_info": {
      "name": "python"
    }
  },
  "cells": [
    {
      "cell_type": "code",
      "execution_count": 1,
      "metadata": {
        "colab": {
          "base_uri": "https://localhost:8080/"
        },
        "id": "60uRbuVBH9qO",
        "outputId": "f9862e07-2613-4e28-e723-37a9ddfd1e5d"
      },
      "outputs": [
        {
          "output_type": "stream",
          "name": "stdout",
          "text": [
            "Collecting firebase\n",
            "  Downloading firebase-4.0.1-py3-none-any.whl (12 kB)\n",
            "Requirement already satisfied: requests in /usr/local/lib/python3.10/dist-packages (from firebase) (2.31.0)\n",
            "Requirement already satisfied: charset-normalizer<4,>=2 in /usr/local/lib/python3.10/dist-packages (from requests->firebase) (3.3.2)\n",
            "Requirement already satisfied: idna<4,>=2.5 in /usr/local/lib/python3.10/dist-packages (from requests->firebase) (3.7)\n",
            "Requirement already satisfied: urllib3<3,>=1.21.1 in /usr/local/lib/python3.10/dist-packages (from requests->firebase) (2.0.7)\n",
            "Requirement already satisfied: certifi>=2017.4.17 in /usr/local/lib/python3.10/dist-packages (from requests->firebase) (2024.6.2)\n",
            "Installing collected packages: firebase\n",
            "Successfully installed firebase-4.0.1\n"
          ]
        }
      ],
      "source": [
        "!pip install firebase"
      ]
    },
    {
      "cell_type": "markdown",
      "source": [
        "# Reading && write from DB"
      ],
      "metadata": {
        "id": "tteiBuLuO9u8"
      }
    },
    {
      "cell_type": "code",
      "source": [
        "from firebase import firebase\n",
        "\n",
        "FBconn = firebase.FirebaseApplication('https://firstproject-ddd4e-default-rtdb.firebaseio.com/', None)\n",
        "\n",
        "data_to_upload = [\n",
        "    {\n",
        "        \"first_name\": \"name1\",\n",
        "        \"last_name\": \"last1\",\n",
        "        \"email\": \"name1.last1@e.braude.ac.il\",\n",
        "        \"courses\": [\"Physics\", \"Cloud Computing\", \"WEB\"],\n",
        "        \"interesting_link\": \"https://interesting_link1.com\",\n",
        "        \"favorite_program\": \"\"\n",
        "    },\n",
        "    {\n",
        "        \"first_name\": \"name2\",\n",
        "        \"last_name\": \"last2\",\n",
        "        \"email\": \"name2.last2@e.braude.ac.il\",\n",
        "        \"courses\": [\"Physics\", \"Cloud Computing\", \"WEB\"],\n",
        "        \"interesting_link\": \"https://interesting_link2.com\",\n",
        "        \"favorite_program\": \"\"\n",
        "    },\n",
        "    {\n",
        "        \"first_name\": \"name3\",\n",
        "        \"last_name\": \"last3\",\n",
        "        \"email\": \"name3.last3@e.braude.ac.il\",\n",
        "        \"courses\": [\"Physics\", \"Cloud Computing\", \"WEB\"],\n",
        "        \"interesting_link\": \"https://interesting_link3.com\",\n",
        "        \"favorite_program\": \"\"\n",
        "    },\n",
        "    {\n",
        "        \"first_name\": \"name4\",\n",
        "        \"last_name\": \"last4\",\n",
        "        \"email\": \"name4.last4@e.braude.ac.il\",\n",
        "        \"courses\": [\"Physics\", \"Cloud Computing\", \"WEB\"],\n",
        "        \"interesting_link\": \"https://interesting_link4.com\",\n",
        "        \"favorite_program\": \"\"\n",
        "    },\n",
        "    {\n",
        "        \"first_name\": \"name5\",\n",
        "        \"last_name\": \"last5\",\n",
        "        \"email\": \"name5.last5@e.braude.ac.il\",\n",
        "        \"courses\": [\"Physics\", \"Cloud Computing\", \"WEB\"],\n",
        "        \"interesting_link\": \"https://interesting_link5.com\",\n",
        "        \"favorite_program\": \"\"\n",
        "    },\n",
        "    {\n",
        "        \"first_name\": \"name6\",\n",
        "        \"last_name\": \"last6\",\n",
        "        \"email\": \"name6.last6@e.braude.ac.il\",\n",
        "        \"courses\": [\"Physics\", \"Cloud Computing\", \"WEB\"],\n",
        "        \"interesting_link\": \"https://interesting_link6.com\",\n",
        "        \"favorite_program\": \"\"\n",
        "    }\n",
        "]\n",
        "# Write to database\n",
        "result = FBconn.post('/Table1', data_to_upload)\n",
        "\n",
        "# Get the data and print it\n",
        "res = FBconn.get('/Table1', None)\n",
        "for key in res:\n",
        "    print(f\"Record ID: {key}\")\n",
        "    data_list = res[key]\n",
        "    for index, data in enumerate(data_list):\n",
        "        print(f\"  Entry {index }:\")\n",
        "        for subkey in data:\n",
        "            print(f\"    {subkey}: {data[subkey]}\")\n",
        "        print()"
      ],
      "metadata": {
        "colab": {
          "base_uri": "https://localhost:8080/"
        },
        "id": "oGbT9BunRv1J",
        "outputId": "e0a2d89a-6051-4c07-e239-227b87f126a9"
      },
      "execution_count": 19,
      "outputs": [
        {
          "output_type": "stream",
          "name": "stdout",
          "text": [
            "Record ID: -O0rKnTtY6w8VP9C6cj9\n",
            "  Entry 0:\n",
            "    courses: ['Physics', 'Cloud Computing', 'WEB']\n",
            "    email: name1.last1@e.braude.ac.il\n",
            "    favorite_program: \n",
            "    first_name: name1\n",
            "    interesting_link: https://interesting_link1.com\n",
            "    last_name: last1\n",
            "\n",
            "  Entry 1:\n",
            "    courses: ['Physics', 'Cloud Computing', 'WEB']\n",
            "    email: name2.last2@e.braude.ac.il\n",
            "    favorite_program: \n",
            "    first_name: name2\n",
            "    interesting_link: https://interesting_link2.com\n",
            "    last_name: last2\n",
            "\n",
            "  Entry 2:\n",
            "    courses: ['Physics', 'Cloud Computing', 'WEB']\n",
            "    email: name3.last3@e.braude.ac.il\n",
            "    favorite_program: \n",
            "    first_name: name3\n",
            "    interesting_link: https://interesting_link3.com\n",
            "    last_name: last3\n",
            "\n",
            "  Entry 3:\n",
            "    courses: ['Physics', 'Cloud Computing', 'WEB']\n",
            "    email: name4.last4@e.braude.ac.il\n",
            "    favorite_program: \n",
            "    first_name: name4\n",
            "    interesting_link: https://interesting_link4.com\n",
            "    last_name: last4\n",
            "\n",
            "  Entry 4:\n",
            "    courses: ['Physics', 'Cloud Computing', 'WEB']\n",
            "    email: name5.last5@e.braude.ac.il\n",
            "    favorite_program: \n",
            "    first_name: name5\n",
            "    interesting_link: https://interesting_link5.com\n",
            "    last_name: last5\n",
            "\n",
            "  Entry 5:\n",
            "    courses: ['Physics', 'Cloud Computing', 'WEB']\n",
            "    email: name6.last6@e.braude.ac.il\n",
            "    favorite_program: \n",
            "    first_name: name6\n",
            "    interesting_link: https://interesting_link6.com\n",
            "    last_name: last6\n",
            "\n"
          ]
        }
      ]
    }
  ]
}