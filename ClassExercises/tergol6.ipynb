{
  "nbformat": 4,
  "nbformat_minor": 0,
  "metadata": {
    "colab": {
      "provenance": []
    },
    "kernelspec": {
      "name": "python3",
      "display_name": "Python 3"
    },
    "language_info": {
      "name": "python"
    }
  },
  "cells": [
    {
      "cell_type": "code",
      "source": [
        "#A module that allows sending HTTP requests - retrieving websites\n",
        "!pip install requests beautifulsoup4\n",
        "import requests\n",
        "from bs4 import BeautifulSoup\n",
        "\n",
        "def fetch_page(url):\n",
        "   response = requests.get(url)\n",
        "   if response.status_code == 200:\n",
        "     soup = BeautifulSoup(response.text, 'html.parser')\n",
        "     return soup\n",
        "   else:\n",
        "     return None"
      ],
      "metadata": {
        "colab": {
          "base_uri": "https://localhost:8080/"
        },
        "id": "gGWmgudVkCIg",
        "outputId": "10ed9e6f-e2b7-4f9f-f42e-d0cf643d1f28"
      },
      "execution_count": 38,
      "outputs": [
        {
          "output_type": "stream",
          "name": "stdout",
          "text": [
            "Requirement already satisfied: requests in /usr/local/lib/python3.10/dist-packages (2.31.0)\n",
            "Requirement already satisfied: beautifulsoup4 in /usr/local/lib/python3.10/dist-packages (4.12.3)\n",
            "Requirement already satisfied: charset-normalizer<4,>=2 in /usr/local/lib/python3.10/dist-packages (from requests) (3.3.2)\n",
            "Requirement already satisfied: idna<4,>=2.5 in /usr/local/lib/python3.10/dist-packages (from requests) (3.7)\n",
            "Requirement already satisfied: urllib3<3,>=1.21.1 in /usr/local/lib/python3.10/dist-packages (from requests) (2.0.7)\n",
            "Requirement already satisfied: certifi>=2017.4.17 in /usr/local/lib/python3.10/dist-packages (from requests) (2024.6.2)\n",
            "Requirement already satisfied: soupsieve>1.2 in /usr/local/lib/python3.10/dist-packages (from beautifulsoup4) (2.5)\n"
          ]
        }
      ]
    },
    {
      "cell_type": "code",
      "source": [
        "#A module that allows the use of regular expressions (a sequence of characters that defines a search)\n",
        "import re\n",
        "def index_words(soup):\n",
        "   index = {}\n",
        "   words = re.findall(r'\\w+', soup.get_text())\n",
        "   for word in words:\n",
        "     word = word.lower()\n",
        "     if word in index:\n",
        "       index[word] += 1\n",
        "     else: index[word] = 1\n",
        "   return index"
      ],
      "metadata": {
        "id": "pUNSXSrQgx-t"
      },
      "execution_count": 39,
      "outputs": []
    },
    {
      "cell_type": "code",
      "source": [
        "#removing common words (stop words). These are words that have no real value since they appear frequently in every text\n",
        "def remove_stop_words(index):\n",
        "   stop_words = {'a', 'an', 'the', 'and', 'or','in', 'on', 'at'}\n",
        "   for stop_word in stop_words:\n",
        "     if stop_word in index:\n",
        "       del index[stop_word]\n",
        "   return index"
      ],
      "metadata": {
        "id": "yfAAsXTghLs2"
      },
      "execution_count": 40,
      "outputs": []
    },
    {
      "cell_type": "code",
      "source": [
        "#each word remains in its natural form, without endings\n",
        "\n",
        "from nltk.stem import PorterStemmer\n",
        "\n",
        "def apply_stemming(index):\n",
        "   stemmer = PorterStemmer()\n",
        "   stemmed_index = {}\n",
        "   for word, count in index.items():\n",
        "       stemmed_word = stemmer.stem(word)\n",
        "       if stemmed_word in stemmed_index:\n",
        "          stemmed_index[stemmed_word] += count\n",
        "       else: stemmed_index[stemmed_word] = count\n",
        "   return stemmed_index"
      ],
      "metadata": {
        "id": "fZcpIwaxhZuH"
      },
      "execution_count": 41,
      "outputs": []
    },
    {
      "cell_type": "code",
      "source": [
        "#Retrieving all words from the query\n",
        "def search(query, index):\n",
        "   query_words = re.findall(r'\\w+', query.lower())\n",
        "   results = {}\n",
        "   for word in query_words:\n",
        "       if word in index:\n",
        "         results[word] = index[word]\n",
        "   return results"
      ],
      "metadata": {
        "id": "2ggXmoHOhy3W"
      },
      "execution_count": 42,
      "outputs": []
    },
    {
      "cell_type": "code",
      "source": [
        "def search_engine(url, query):\n",
        "   soup = fetch_page(url)\n",
        "   if soup is None:\n",
        "     return None\n",
        "   index = index_words(soup)\n",
        "   index = remove_stop_words(index)\n",
        "   index = apply_stemming(index)\n",
        "   results = search(query, index)\n",
        "   return results"
      ],
      "metadata": {
        "id": "gWgX_tICgfso"
      },
      "execution_count": 43,
      "outputs": []
    },
    {
      "cell_type": "code",
      "source": [
        "!pip install firebase"
      ],
      "metadata": {
        "colab": {
          "base_uri": "https://localhost:8080/"
        },
        "id": "HifUMZHojsPX",
        "outputId": "8b6aff65-74e9-4259-f790-310b64b94e25"
      },
      "execution_count": 44,
      "outputs": [
        {
          "output_type": "stream",
          "name": "stdout",
          "text": [
            "Requirement already satisfied: firebase in /usr/local/lib/python3.10/dist-packages (4.0.1)\n",
            "Requirement already satisfied: requests in /usr/local/lib/python3.10/dist-packages (from firebase) (2.31.0)\n",
            "Requirement already satisfied: charset-normalizer<4,>=2 in /usr/local/lib/python3.10/dist-packages (from requests->firebase) (3.3.2)\n",
            "Requirement already satisfied: idna<4,>=2.5 in /usr/local/lib/python3.10/dist-packages (from requests->firebase) (3.7)\n",
            "Requirement already satisfied: urllib3<3,>=1.21.1 in /usr/local/lib/python3.10/dist-packages (from requests->firebase) (2.0.7)\n",
            "Requirement already satisfied: certifi>=2017.4.17 in /usr/local/lib/python3.10/dist-packages (from requests->firebase) (2024.6.2)\n"
          ]
        }
      ]
    },
    {
      "cell_type": "code",
      "source": [
        "from firebase import firebase\n",
        "FBconn = firebase.FirebaseApplication('https://firstproject-ddd4e-default-rtdb.firebaseio.com/')\n",
        "\n",
        "url = 'https://cad.onshape.com/help/Content/Glossary/glossary.htm?tocpath=_____19'\n",
        "queryList = [\"cad\", \"feature\", \"sketch\", \"assembly\", \"part\", \"document\", \"parametric\", \"constraint\", \"mate\", \"revision\"]\n",
        "queryString = \" \".join(queryList)\n",
        "results = search_engine(url, queryString)\n",
        "\n",
        "print(\"Search Results:\")\n",
        "for word, count in results.items():\n",
        "    print(f\"{word} => Count: {count}\")\n",
        "\n",
        "rank=1\n",
        "for word, count in results.items():\n",
        "   rank = rank*2/count\n",
        "rank = 1-rank\n",
        "print(\"Rank of the page is:\",rank)\n",
        "\n",
        "result = FBconn.post('/Results', results)\n",
        "print()\n",
        "print(\"Data saved in firebase in Results with name:\",result)"
      ],
      "metadata": {
        "id": "SuxWZnih6lyh",
        "colab": {
          "base_uri": "https://localhost:8080/"
        },
        "outputId": "d39939d0-521e-48b7-e776-61706a948263"
      },
      "execution_count": 45,
      "outputs": [
        {
          "output_type": "stream",
          "name": "stdout",
          "text": [
            "Search Results:\n",
            "cad => Count: 6\n",
            "sketch => Count: 220\n",
            "part => Count: 524\n",
            "document => Count: 164\n",
            "constraint => Count: 7\n",
            "mate => Count: 109\n",
            "Rank of the page is: 0.9999999992605542\n",
            "\n",
            "Data saved in firebase in Results with name: {'name': '-O1SdlWK8yJXc3GX8NZ8'}\n"
          ]
        }
      ]
    },
    {
      "cell_type": "code",
      "source": [
        "import json\n",
        "from firebase import firebase\n",
        "import matplotlib.pyplot as plt\n",
        "\n",
        "FBconn = firebase.FirebaseApplication('https://firstproject-ddd4e-default-rtdb.firebaseio.com/')\n",
        "result = FBconn.get('/Results', None)\n",
        "dictionary = {}\n",
        "\n",
        "for element in result.values():\n",
        "    dictionary.update(element)\n",
        "\n",
        "print(json.dumps(dictionary, indent=4))\n",
        "print()\n",
        "\n",
        "plt.bar(dictionary.keys(), dictionary.values())\n",
        "plt.show()"
      ],
      "metadata": {
        "colab": {
          "base_uri": "https://localhost:8080/",
          "height": 591
        },
        "id": "xBsV2qb4mZcq",
        "outputId": "41fa3f37-eecc-4c6c-d9fb-0bf48635f838"
      },
      "execution_count": 46,
      "outputs": [
        {
          "output_type": "stream",
          "name": "stdout",
          "text": [
            "{\n",
            "    \"cad\": 6,\n",
            "    \"constraint\": 7,\n",
            "    \"document\": 164,\n",
            "    \"mate\": 109,\n",
            "    \"part\": 524,\n",
            "    \"sketch\": 220\n",
            "}\n",
            "\n"
          ]
        },
        {
          "output_type": "display_data",
          "data": {
            "text/plain": [
              "<Figure size 640x480 with 1 Axes>"
            ],
            "image/png": "[encoded data removed]"
          },
          "metadata": {}
        }
      ]
    }
  ]
}