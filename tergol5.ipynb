{
  "nbformat": 4,
  "nbformat_minor": 0,
  "metadata": {
    "colab": {
      "provenance": []
    },
    "kernelspec": {
      "name": "python3",
      "display_name": "Python 3"
    },
    "language_info": {
      "name": "python"
    }
  },
  "cells": [
    {
      "cell_type": "code",
      "execution_count": 1,
      "metadata": {
        "colab": {
          "base_uri": "https://localhost:8080/"
        },
        "id": "60uRbuVBH9qO",
        "outputId": "f9862e07-2613-4e28-e723-37a9ddfd1e5d"
      },
      "outputs": [
        {
          "output_type": "stream",
          "name": "stdout",
          "text": [
            "Collecting firebase\n",
            "  Downloading firebase-4.0.1-py3-none-any.whl (12 kB)\n",
            "Requirement already satisfied: requests in /usr/local/lib/python3.10/dist-packages (from firebase) (2.31.0)\n",
            "Requirement already satisfied: charset-normalizer<4,>=2 in /usr/local/lib/python3.10/dist-packages (from requests->firebase) (3.3.2)\n",
            "Requirement already satisfied: idna<4,>=2.5 in /usr/local/lib/python3.10/dist-packages (from requests->firebase) (3.7)\n",
            "Requirement already satisfied: urllib3<3,>=1.21.1 in /usr/local/lib/python3.10/dist-packages (from requests->firebase) (2.0.7)\n",
            "Requirement already satisfied: certifi>=2017.4.17 in /usr/local/lib/python3.10/dist-packages (from requests->firebase) (2024.6.2)\n",
            "Installing collected packages: firebase\n",
            "Successfully installed firebase-4.0.1\n"
          ]
        }
      ],
      "source": [
        "!pip install firebase"
      ]
    },
    {
      "cell_type": "markdown",
      "source": [
        "# Reading && writing using RealTime database on FireBase"
      ],
      "metadata": {
        "id": "tteiBuLuO9u8"
      }
    },
    {
      "cell_type": "code",
      "source": [
        "from firebase import firebase\n",
        "import json\n",
        "from google.colab import drive\n",
        "# Mount Google Drive\n",
        "drive.mount('/content/drive')\n",
        "\n",
        "\n",
        "FBconn = firebase.FirebaseApplication('https://firstproject-ddd4e-default-rtdb.firebaseio.com/', None)\n",
        "\n",
        "json_file_path = '/content/drive/My Drive/students.json'\n",
        "\n",
        "# Read the JSON file\n",
        "with open(json_file_path, 'r') as json_file:\n",
        "    data = json.load(json_file)\n",
        "\n",
        "\n",
        "# Write to database\n",
        "result = FBconn.post('/Table2', data)\n",
        "\n",
        "# Get the data and print it\n",
        "res = FBconn.get('/Table2', None)\n",
        "\n",
        "# Print the data\n",
        "for index, entry in enumerate(data):\n",
        "    print(f\"Entry {index}:\")\n",
        "    for key, value in entry.items():\n",
        "        print(f\"  {key}: {value}\")\n",
        "    print()"
      ],
      "metadata": {
        "colab": {
          "base_uri": "https://localhost:8080/"
        },
        "id": "oGbT9BunRv1J",
        "outputId": "bc1abedf-350e-4f36-ebec-52ba9db67329"
      },
      "execution_count": 25,
      "outputs": [
        {
          "output_type": "stream",
          "name": "stdout",
          "text": [
            "Drive already mounted at /content/drive; to attempt to forcibly remount, call drive.mount(\"/content/drive\", force_remount=True).\n",
            "Entry 0:\n",
            "  first_name: name1\n",
            "  last_name: last1\n",
            "  email: name1.last1@e.braude.ac.il\n",
            "  courses: ['Physics', 'Cloud Computing', 'WEB']\n",
            "  interesting_link: https://interesting_link1.com\n",
            "  favorite_program: c63Program\n",
            "\n",
            "Entry 1:\n",
            "  first_name: name2\n",
            "  last_name: last2\n",
            "  email: name2.last2@e.braude.ac.il\n",
            "  courses: ['Physics', 'Cloud Computing', 'WEB']\n",
            "  interesting_link: https://interesting_link2.com\n",
            "  favorite_program: g7\n",
            "\n",
            "Entry 2:\n",
            "  first_name: name3\n",
            "  last_name: last3\n",
            "  email: name3.last3@e.braude.ac.il\n",
            "  courses: ['Physics', 'Cloud Computing', 'WEB']\n",
            "  interesting_link: https://interesting_link3.com\n",
            "  favorite_program: \n",
            "\n",
            "Entry 3:\n",
            "  first_name: name4\n",
            "  last_name: last4\n",
            "  email: name4.last4@e.braude.ac.il\n",
            "  courses: ['Physics', 'Cloud Computing', 'WEB']\n",
            "  interesting_link: https://interesting_link4.com\n",
            "  favorite_program: \n",
            "\n",
            "Entry 4:\n",
            "  first_name: name5\n",
            "  last_name: last5\n",
            "  email: name5.last5@e.braude.ac.il\n",
            "  courses: ['Physics', 'Cloud Computing', 'WEB']\n",
            "  interesting_link: https://interesting_link5.com\n",
            "  favorite_program: \n",
            "\n",
            "Entry 5:\n",
            "  first_name: name6\n",
            "  last_name: last6\n",
            "  email: name6.last6@e.braude.ac.il\n",
            "  courses: ['Physics', 'Cloud Computing', 'WEB']\n",
            "  interesting_link: https://interesting_link6.com\n",
            "  favorite_program: \n",
            "\n"
          ]
        }
      ]
    }
  ]
}